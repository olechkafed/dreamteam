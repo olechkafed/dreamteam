{
 "cells": [
  {
   "cell_type": "code",
   "execution_count": 1,
   "metadata": {},
   "outputs": [],
   "source": [
    "import matplotlib.pyplot as plt\n",
    "import scipy.stats\n",
    "import math\n",
    "import numpy as np\n",
    "from scipy.stats import beta"
   ]
  },
  {
   "cell_type": "code",
   "execution_count": 2,
   "metadata": {},
   "outputs": [
    {
     "name": "stdout",
     "output_type": "stream",
     "text": [
      "\n",
      "Value ranges from  0.0 to 1.0\n"
     ]
    }
   ],
   "source": [
    "a, b = 2, 5\n",
    "CDF_prior_min = 0\n",
    "#print(CDF_prior_min)\n",
    "v_min = scipy.stats.beta.ppf(CDF_prior_min, a, b, loc=0, scale=1)\n",
    "v_max = scipy.stats.beta.ppf(1-CDF_prior_min, a, b, loc=0, scale=1)\n",
    "print('\\nValue ranges from ', v_min, 'to', v_max)"
   ]
  },
  {
   "cell_type": "markdown",
   "metadata": {},
   "source": [
    "Define prior and likelihood"
   ]
  },
  {
   "cell_type": "code",
   "execution_count": 3,
   "metadata": {
    "scrolled": true
   },
   "outputs": [
    {
     "data": {
      "text/plain": [
       "[<matplotlib.lines.Line2D at 0x1913c221248>]"
      ]
     },
     "execution_count": 3,
     "metadata": {},
     "output_type": "execute_result"
    },
    {
     "data": {
      "image/png": "[encoded data removed]",
      "text/plain": [
       "<Figure size 432x288 with 1 Axes>"
      ]
     },
     "metadata": {
      "needs_background": "light"
     },
     "output_type": "display_data"
    }
   ],
   "source": [
    "H_axis = np.linspace(v_min, v_max, 100)\n",
    "bPDF  = scipy.stats.beta.pdf(H_axis, a, b, loc=0, scale=1)\n",
    "bCDF = scipy.stats.beta.cdf(H_axis, a, b, loc=0, scale=1)\n",
    "plt.plot(H_axis,bPDF, color='blue')"
   ]
  },
  {
   "cell_type": "code",
   "execution_count": 4,
   "metadata": {
    "scrolled": true
   },
   "outputs": [
    {
     "data": {
      "text/plain": [
       "[<matplotlib.lines.Line2D at 0x1913c2d5b88>]"
      ]
     },
     "execution_count": 4,
     "metadata": {},
     "output_type": "execute_result"
    },
    {
     "data": {
      "image/png": "[encoded data removed]",
      "text/plain": [
       "<Figure size 432x288 with 1 Axes>"
      ]
     },
     "metadata": {
      "needs_background": "light"
     },
     "output_type": "display_data"
    }
   ],
   "source": [
    "plt.plot(H_axis,bCDF, color='blue')"
   ]
  },
  {
   "cell_type": "markdown",
   "metadata": {},
   "source": [
    "3 point shortcuts"
   ]
  },
  {
   "cell_type": "code",
   "execution_count": 5,
   "metadata": {},
   "outputs": [
    {
     "name": "stdout",
     "output_type": "stream",
     "text": [
      "Percentile Values:  [0.06284989 0.26444998 0.58180341]\n",
      "NPV:           [-3.         -2.35550017  0.81803409]\n",
      "weighted_NPV_EPT:  [-0.555      -1.48396511  0.15133631]\n",
      "sum_NPV_EPT_WOinfo:  -1.8876287981210942\n",
      "sum_NPV_EPT_WithInfo:  0.1513363071162479\n",
      "VOC:  2.038965105237342\n"
     ]
    }
   ],
   "source": [
    "Percentiles_EPT = np.array([5, 50, 95])\n",
    "Prob_Assigned_EPT = np.array([0.185,0.63, 0.185])\n",
    "Precentiles_Value_EPT = scipy.stats.beta.ppf(Percentiles_EPT/100, a, b, loc=0, scale=1)\n",
    "print('Percentile Values: ', Precentiles_Value_EPT)\n",
    "\n",
    "mm_EPT = len(Precentiles_Value_EPT)\n",
    "NPV_EPT = np.zeros(mm_EPT)\n",
    "kk_EPT = range(mm_EPT)\n",
    "\n",
    "for i in kk_EPT: \n",
    "  if Precentiles_Value_EPT[i] > 0.7:\n",
    "     NPV_EPT[i] = 2\n",
    "  elif Precentiles_Value_EPT[i] <= 0.7 and Precentiles_Value_EPT[i] >= 0.2:\n",
    "     NPV_EPT[i] = 10*Precentiles_Value_EPT[i]-5\n",
    "  else:\n",
    "     NPV_EPT[i] = -3\n",
    "print('NPV:          ', NPV_EPT)\n",
    "\n",
    "weighted_NPV_EPT = np.multiply(Prob_Assigned_EPT, NPV_EPT)\n",
    "print('weighted_NPV_EPT: ', weighted_NPV_EPT)\n",
    "sum_NPV_EPT_WOinfo = sum (weighted_NPV_EPT)\n",
    "print('sum_NPV_EPT_WOinfo: ', sum_NPV_EPT_WOinfo)\n",
    "\n",
    "weighted_NPV_EPT_WithInfo = np.zeros(mm_EPT)\n",
    "for i in kk_EPT:\n",
    " if weighted_NPV_EPT[i] <= 0:\n",
    "     weighted_NPV_EPT_WithInfo[i] = 0\n",
    " else:\n",
    "     weighted_NPV_EPT_WithInfo[i] = weighted_NPV_EPT[i]\n",
    "    \n",
    "sum_NPV_EPT_WithInfo = sum (weighted_NPV_EPT_WithInfo)\n",
    "print('sum_NPV_EPT_WithInfo: ', sum_NPV_EPT_WithInfo)\n",
    "\n",
    "VOC_EPT = sum_NPV_EPT_WithInfo - sum_NPV_EPT_WOinfo\n",
    "print('VOC: ', VOC_EPT)"
   ]
  },
  {
   "cell_type": "code",
   "execution_count": 6,
   "metadata": {},
   "outputs": [
    {
     "name": "stdout",
     "output_type": "stream",
     "text": [
      "Percentile Values:  [0.09259526 0.26444998 0.51031631]\n",
      "NPV:         [-3.         -2.35550017  0.10316307]\n",
      "weighted_NPV_McC:  [-0.75       -1.17775008  0.02579077]\n",
      "sum_NPV_McC_WOinfo:  -1.9019593171429707\n",
      "sum_NPV_McC_WithInfo:  0.025790766378729346\n",
      "VOC:  1.9277500835217\n"
     ]
    }
   ],
   "source": [
    "Percentiles_McC = np.array([10, 50, 90])\n",
    "Prob_Assigned_McC  = np.array([0.25,0.5, 0.25])\n",
    "Precentiles_Value_McC  = scipy.stats.beta.ppf(Percentiles_McC/100, a, b, loc=0, scale=1)\n",
    "print('Percentile Values: ', Precentiles_Value_McC )\n",
    "\n",
    "mm_McC = len(Precentiles_Value_McC)\n",
    "NPV_McC = np.zeros(mm_McC)\n",
    "kk_McC = range(mm_McC)\n",
    "\n",
    "for i in kk_McC: \n",
    "  if Precentiles_Value_McC[i] > 0.7:\n",
    "     NPV_McC[i] = 2\n",
    "  elif Precentiles_Value_McC[i] <= 0.7 and Precentiles_Value_McC[i] >= 0.2:\n",
    "     NPV_McC[i] = 10*Precentiles_Value_McC[i]-5\n",
    "  else:\n",
    "     NPV_McC[i] = -3\n",
    "print('NPV:        ', NPV_McC)\n",
    "\n",
    "weighted_NPV_McC = np.multiply(Prob_Assigned_McC, NPV_McC)\n",
    "print('weighted_NPV_McC: ', weighted_NPV_McC)\n",
    "sum_NPV_McC_WOinfo = sum (weighted_NPV_McC)\n",
    "print('sum_NPV_McC_WOinfo: ', sum_NPV_McC_WOinfo)\n",
    "\n",
    "weighted_NPV_McC_WithInfo = np.zeros(mm_McC)\n",
    "for i in kk_McC:\n",
    " if weighted_NPV_McC[i] <= 0:\n",
    "     weighted_NPV_McC_WithInfo[i] = 0\n",
    " else:\n",
    "     weighted_NPV_McC_WithInfo[i] = weighted_NPV_McC[i]\n",
    "    \n",
    "sum_NPV_McC_WithInfo = sum (weighted_NPV_McC_WithInfo)\n",
    "print('sum_NPV_McC_WithInfo: ', sum_NPV_McC_WithInfo)\n",
    "\n",
    "VOC_McC = sum_NPV_McC_WithInfo - sum_NPV_McC_WOinfo\n",
    "print('VOC: ', VOC_McC)"
   ]
  },
  {
   "cell_type": "code",
   "execution_count": 7,
   "metadata": {
    "scrolled": true
   },
   "outputs": [
    {
     "name": "stdout",
     "output_type": "stream",
     "text": [
      "Percentile Values:  [0.09259526 0.26444998 0.51031631]\n",
      "NPV:      [-3.         -2.35550017  0.10316307]\n",
      "weighted_NPV_ESM:  [-0.9        -0.94220007  0.03094892]\n",
      "sum_NPV_ESM_WOinfo:  -1.811251147162885\n",
      "sum_NPV_ESM_WithInfo:  0.030948919654475215\n",
      "VOC:  1.8422000668173601\n"
     ]
    }
   ],
   "source": [
    "Percentiles_ESM = np.array([10, 50, 90])\n",
    "Prob_Assigned_ESM  = np.array([0.3,0.4, 0.3])\n",
    "Precentiles_Value_ESM  = scipy.stats.beta.ppf(Percentiles_ESM/100, a, b, loc=0, scale=1)\n",
    "print('Percentile Values: ', Precentiles_Value_ESM )\n",
    "\n",
    "mm_ESM = len(Precentiles_Value_ESM)\n",
    "NPV_ESM = np.zeros(mm_ESM)\n",
    "kk_ESM = range(mm_ESM)\n",
    "\n",
    "for i in kk_ESM: \n",
    "  if Precentiles_Value_ESM[i] > 0.7:\n",
    "     NPV_ESM[i] = 2\n",
    "  elif Precentiles_Value_ESM[i] <= 0.7 and Precentiles_Value_ESM[i] >= 0.2:\n",
    "     NPV_ESM[i] = 10*Precentiles_Value_ESM[i]-5\n",
    "  else:\n",
    "     NPV_ESM[i] = -3\n",
    "print('NPV:     ', NPV_ESM)\n",
    "\n",
    "weighted_NPV_ESM = np.multiply(Prob_Assigned_ESM, NPV_ESM)\n",
    "print('weighted_NPV_ESM: ', weighted_NPV_ESM)\n",
    "sum_NPV_ESM_WOinfo = sum (weighted_NPV_ESM)\n",
    "print('sum_NPV_ESM_WOinfo: ', sum_NPV_ESM_WOinfo)\n",
    "\n",
    "weighted_NPV_ESM_WithInfo = np.zeros(mm_ESM)\n",
    "for i in kk_ESM:\n",
    " if weighted_NPV_ESM[i] <= 0:\n",
    "     weighted_NPV_ESM_WithInfo[i] = 0\n",
    " else:\n",
    "     weighted_NPV_ESM_WithInfo[i] = weighted_NPV_ESM[i]\n",
    "    \n",
    "sum_NPV_ESM_WithInfo = sum (weighted_NPV_ESM_WithInfo)\n",
    "print('sum_NPV_ESM_WithInfo: ', sum_NPV_ESM_WithInfo)\n",
    "\n",
    "VOC_ESM = sum_NPV_ESM_WithInfo - sum_NPV_ESM_WOinfo\n",
    "print('VOC: ', VOC_ESM)"
   ]
  },
  {
   "cell_type": "markdown",
   "metadata": {},
   "source": [
    "CDF discretization (Bracket Median)"
   ]
  },
  {
   "cell_type": "code",
   "execution_count": 8,
   "metadata": {
    "scrolled": false
   },
   "outputs": [
    {
     "name": "stdout",
     "output_type": "stream",
     "text": [
      "\n",
      "Discretized CDF: \n",
      "[0.1 0.3 0.5 0.7 0.9] 0.2\n",
      "[0.114265 0.579825 0.890625 0.989065 0.999945]\n",
      "NPV:           [-3.       0.79825  2.       2.       2.     ]\n",
      "weighted_NPV_CDF:  [-0.6      0.15965  0.4      0.4      0.4    ]\n",
      "0.75965\n",
      "1.3596500000000002\n",
      "0.6000000000000002\n"
     ]
    }
   ],
   "source": [
    "N_discrCDF = 5\n",
    "p = 1/N_discrCDF\n",
    "p_intervalCDF = ((1-CDF_prior_min)-CDF_prior_min)/N_discrCDF\n",
    "p_points = np.linspace(CDF_prior_min+p_intervalCDF/2, (1-CDF_prior_min)-p_intervalCDF/2, N_discrCDF)\n",
    "print('\\nDiscretized CDF: ')\n",
    "print(p_points, p)\n",
    "\n",
    "v_priors = scipy.stats.beta.cdf(p_points,a, b, loc=0, scale=1)\n",
    "print(v_priors)\n",
    "\n",
    "mm_CDF = len(v_priors)\n",
    "NPV_CDF = np.zeros(mm_CDF)\n",
    "kk_CDF = range(mm_CDF)\n",
    "\n",
    "for i in kk_CDF: \n",
    "  if v_priors[i] > 0.7:\n",
    "     NPV_CDF[i] = 2\n",
    "  elif v_priors[i] <= 0.7 and v_priors[i] >= 0.2:\n",
    "     NPV_CDF[i] = 10*v_priors[i]-5\n",
    "  else:\n",
    "     NPV_CDF[i] = -3\n",
    "print('NPV:          ', NPV_CDF)\n",
    "\n",
    "weighted_NPV_CDF = NPV_CDF*p\n",
    "print('weighted_NPV_CDF: ', weighted_NPV_CDF)\n",
    "sum_NPV_CDF_WOinfo = sum (weighted_NPV_CDF)\n",
    "print(sum_NPV_CDF_WOinfo)\n",
    "\n",
    "weighted_NPV_CDF_WithInfo = np.zeros(mm_CDF)\n",
    "for i in kk_CDF:\n",
    " if weighted_NPV_CDF[i] <= 0:\n",
    "     weighted_NPV_CDF_WithInfo[i] = 0\n",
    " else:\n",
    "     weighted_NPV_CDF_WithInfo[i] = weighted_NPV_CDF[i]\n",
    "    \n",
    "sum_NPV_CDF_WithInfo = sum (weighted_NPV_CDF_WithInfo)\n",
    "print(sum_NPV_CDF_WithInfo)\n",
    "\n",
    "VOC_CDF = sum_NPV_CDF_WithInfo - sum_NPV_CDF_WOinfo\n",
    "print(VOC_CDF)\n"
   ]
  },
  {
   "cell_type": "markdown",
   "metadata": {},
   "source": [
    "Value Discretization"
   ]
  },
  {
   "cell_type": "code",
   "execution_count": 9,
   "metadata": {
    "scrolled": true
   },
   "outputs": [
    {
     "name": "stdout",
     "output_type": "stream",
     "text": [
      "\n",
      "Discretized Values: \n",
      "[0.03333333 0.1        0.16666667 0.23333333 0.3        0.36666667\n",
      " 0.43333333 0.5        0.56666667 0.63333333 0.7        0.76666667\n",
      " 0.83333333 0.9        0.96666667]\n",
      "\n",
      "Discretized Prior Probs:\n",
      "[5.78923050e-02 1.30498392e-01 1.59867023e-01 1.60338654e-01\n",
      " 1.43267782e-01 1.17337259e-01 8.88726004e-02 6.21562987e-02\n",
      " 3.97421337e-02 2.27694841e-02 1.12776388e-02 4.52010836e-03\n",
      " 1.27893619e-03 1.79010140e-04 2.37370556e-06]\n"
     ]
    }
   ],
   "source": [
    "N_discrete = 15\n",
    "v_interval = (v_max-v_min)/N_discrete\n",
    "v_points = np.linspace(v_min+v_interval/2, v_max-v_interval/2, N_discrete)\n",
    "print('\\nDiscretized Values: ')\n",
    "print(v_points)\n",
    "\n",
    "f_priors = scipy.stats.beta.pdf(v_points,a, b, loc=0, scale=1)\n",
    "#print(f_priors)\n",
    "P_priors = f_priors/np.sum(f_priors)\n",
    "print('\\nDiscretized Prior Probs:')\n",
    "print(P_priors)"
   ]
  },
  {
   "cell_type": "markdown",
   "metadata": {},
   "source": [
    "Plot discretized prior"
   ]
  },
  {
   "cell_type": "code",
   "execution_count": 10,
   "metadata": {
    "scrolled": true
   },
   "outputs": [
    {
     "data": {
      "image/png": "[encoded data removed]",
      "text/plain": [
       "<Figure size 432x288 with 1 Axes>"
      ]
     },
     "metadata": {
      "needs_background": "light"
     },
     "output_type": "display_data"
    }
   ],
   "source": [
    "plt.plot(v_points,P_priors, 'bo', label='Prior')\n",
    "plt.title('Discretized Prior, P(x)')\n",
    "plt.xlabel('x')\n",
    "plt.ylabel('Probability')\n",
    "plt.legend(loc='upper left')\n",
    "plt.grid()\n",
    "\n",
    "plt.xlim(v_min,v_max)\n",
    "#plt.ylim(0,1)\n",
    "\n",
    "plt.show()"
   ]
  },
  {
   "cell_type": "code",
   "execution_count": 11,
   "metadata": {
    "scrolled": true
   },
   "outputs": [
    {
     "name": "stdout",
     "output_type": "stream",
     "text": [
      "NPV:      [-3.         -3.         -3.         -2.66666667 -2.         -1.33333333\n",
      " -0.66666667  0.          0.66666667  1.33333333  2.          2.\n",
      "  2.          2.          2.        ]\n",
      "weighted_NPV_Vdiscr:  [-1.73676915e-01 -3.91495177e-01 -4.79601070e-01 -4.27569744e-01\n",
      " -2.86535564e-01 -1.56449679e-01 -5.92484002e-02  0.00000000e+00\n",
      "  2.64947558e-02  3.03593122e-02  2.25552777e-02  9.04021671e-03\n",
      "  2.55787237e-03  3.58020280e-04  4.74741113e-06]\n",
      "-1.8832063469067\n",
      "0.09137020243752275\n",
      "1.9745765493442227\n"
     ]
    }
   ],
   "source": [
    "NPV_Vdiscr = np.zeros(N_discrete)\n",
    "kk_Vdiscr = range(N_discrete)\n",
    "\n",
    "for i in kk_Vdiscr: \n",
    "  if v_points[i] > 0.7:\n",
    "     NPV_Vdiscr[i] = 2\n",
    "  elif v_points[i] <= 0.7 and v_points[i] >= 0.2:\n",
    "     NPV_Vdiscr[i] = 10*v_points[i]-5\n",
    "  else:\n",
    "     NPV_Vdiscr[i] = -3\n",
    "print('NPV:     ', NPV_Vdiscr)\n",
    "\n",
    "weighted_NPV_Vdiscr = np.multiply(P_priors, NPV_Vdiscr)\n",
    "print('weighted_NPV_Vdiscr: ', weighted_NPV_Vdiscr)\n",
    "sum_NPV_Vdiscr_WOinfo = sum (weighted_NPV_Vdiscr)\n",
    "print(sum_NPV_Vdiscr_WOinfo)\n",
    "\n",
    "weighted_NPV_Vdiscr_WithInfo = np.zeros(N_discrete)\n",
    "for i in kk_Vdiscr:\n",
    " if weighted_NPV_Vdiscr[i] <= 0:\n",
    "     weighted_NPV_Vdiscr_WithInfo[i] = 0\n",
    " else:\n",
    "     weighted_NPV_Vdiscr_WithInfo[i] = weighted_NPV_Vdiscr[i]\n",
    "    \n",
    "sum_NPV_Vdiscr_WithInfo = sum (weighted_NPV_Vdiscr_WithInfo)\n",
    "print(sum_NPV_Vdiscr_WithInfo)\n",
    "\n",
    "VOC_Vdiscr = sum_NPV_Vdiscr_WithInfo - sum_NPV_Vdiscr_WOinfo\n",
    "print(VOC_Vdiscr)"
   ]
  },
  {
   "cell_type": "code",
   "execution_count": 12,
   "metadata": {
    "scrolled": true
   },
   "outputs": [],
   "source": [
    "import numpy\n",
    "numpy.savetxt(\"1.csv\", v_points , delimiter=\",\")\n",
    "numpy.savetxt(\"2.csv\", P_priors , delimiter=\",\")\n",
    "numpy.savetxt(\"3.csv\", NPV_Vdiscr , delimiter=\",\")\n",
    "numpy.savetxt(\"4.csv\", weighted_NPV_Vdiscr , delimiter=\",\")\n"
   ]
  },
  {
   "cell_type": "markdown",
   "metadata": {},
   "source": [
    "MC simulation"
   ]
  },
  {
   "cell_type": "code",
   "execution_count": 13,
   "metadata": {
    "scrolled": true
   },
   "outputs": [
    {
     "name": "stdout",
     "output_type": "stream",
     "text": [
      "0.0020214338666724864\n",
      "0.8946844979382312\n"
     ]
    },
    {
     "data": {
      "text/plain": [
       "<matplotlib.legend.Legend at 0x1913c3e8e48>"
      ]
     },
     "execution_count": 13,
     "metadata": {},
     "output_type": "execute_result"
    },
    {
     "data": {
      "image/png": "[encoded data removed]",
      "text/plain": [
       "<Figure size 432x288 with 1 Axes>"
      ]
     },
     "metadata": {
      "needs_background": "light"
     },
     "output_type": "display_data"
    }
   ],
   "source": [
    "N_samples = 10000\n",
    "MC = beta.rvs(a, b, size=N_samples)\n",
    "minMC  = min (MC)\n",
    "maxMC  = max (MC)\n",
    "print(minMC)\n",
    "print(maxMC)\n",
    "\n",
    "Haxis2 = np.linspace(minMC, maxMC, 1000)\n",
    "\n",
    "PDF_x = scipy.stats.beta.pdf(Haxis2,a, b, loc=0, scale=1)\n",
    "\n",
    "plt.plot(Haxis2,PDF_x, color='blue', label='PDF')\n",
    "plt.plot(MC, np.zeros(N_samples), 'ro', label='MC Samples')\n",
    "plt.hist(MC, bins=30, color='gray', density=True, label='Histogram')\n",
    "\n",
    "plt.xlabel('Value')\n",
    "plt.ylabel('PDF')\n",
    "plt.legend(loc='upper right')"
   ]
  },
  {
   "cell_type": "code",
   "execution_count": 14,
   "metadata": {
    "scrolled": true
   },
   "outputs": [
    {
     "name": "stdout",
     "output_type": "stream",
     "text": [
      "-1.876581951833648\n",
      "0.09649851733719969\n",
      "1.9730804691708477\n"
     ]
    }
   ],
   "source": [
    "kk_MC = range(N_samples)\n",
    "NPV_MC = np.zeros(N_samples)\n",
    "\n",
    "for i in kk_MC: \n",
    "  if MC[i] > 0.7:\n",
    "     NPV_MC[i] = 2\n",
    "  elif MC[i] <= 0.7 and MC[i] >= 0.2:\n",
    "     NPV_MC[i] = 10*MC[i]-5\n",
    "  else:\n",
    "     NPV_MC[i] = -3\n",
    "\n",
    "sum_NPV_MC_WOinfo = np.mean(NPV_MC)\n",
    "print(sum_NPV_MC_WOinfo)\n",
    "\n",
    "NPV_MC_WithInfo = np.zeros(N_samples)\n",
    "for i in kk_MC:\n",
    " if NPV_MC[i] <= 0:\n",
    "     NPV_MC_WithInfo[i] = 0\n",
    " else:\n",
    "     NPV_MC_WithInfo[i] = NPV_MC[i]\n",
    "    \n",
    "sum_NPV_MC_WithInfo = np.mean(NPV_MC_WithInfo)\n",
    "print(sum_NPV_MC_WithInfo)\n",
    "\n",
    "VOC_MC = sum_NPV_MC_WithInfo - sum_NPV_MC_WOinfo\n",
    "print(VOC_MC)"
   ]
  },
  {
   "cell_type": "code",
   "execution_count": null,
   "metadata": {},
   "outputs": [],
   "source": []
  },
  {
   "cell_type": "code",
   "execution_count": null,
   "metadata": {},
   "outputs": [],
   "source": []
  }
 ],
 "metadata": {
  "kernelspec": {
   "display_name": "Python 3",
   "language": "python",
   "name": "python3"
  },
  "language_info": {
   "codemirror_mode": {
    "name": "ipython",
    "version": 3
   },
   "file_extension": ".py",
   "mimetype": "text/x-python",
   "name": "python",
   "nbconvert_exporter": "python",
   "pygments_lexer": "ipython3",
   "version": "3.7.4"
  }
 },
 "nbformat": 4,
 "nbformat_minor": 2
}
